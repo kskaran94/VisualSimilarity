{
  "nbformat": 4,
  "nbformat_minor": 0,
  "metadata": {
    "colab": {
      "name": "Image_Similarity_Baseline_Celeb",
      "provenance": [],
      "collapsed_sections": [],
      "toc_visible": true
    },
    "kernelspec": {
      "name": "python3",
      "display_name": "Python 3"
    },
    "accelerator": "GPU"
  },
  "cells": [
    {
      "cell_type": "markdown",
      "metadata": {
        "id": "bSZGflqOOqk-",
        "colab_type": "text"
      },
      "source": [
        "### Running script on TF 2.0"
      ]
    },
    {
      "cell_type": "code",
      "metadata": {
        "id": "vu0J0YIQHgXF",
        "colab_type": "code",
        "outputId": "eab1ea27-91b2-40ab-b985-00f1e38c338f",
        "colab": {
          "base_uri": "https://localhost:8080/",
          "height": 102
        }
      },
      "source": [
        "try:\n",
        "  %tensorflow_version 2.x # enable TF 2.x in Colab\n",
        "except Exception:\n",
        "  pass"
      ],
      "execution_count": 1,
      "outputs": [
        {
          "output_type": "stream",
          "text": [
            "`%tensorflow_version` only switches the major version: `1.x` or `2.x`.\n",
            "You set: `2.x # enable TF 2.x in Colab`. This will be interpreted as: `2.x`.\n",
            "\n",
            "\n",
            "TensorFlow 2.x selected.\n"
          ],
          "name": "stdout"
        }
      ]
    },
    {
      "cell_type": "markdown",
      "metadata": {
        "id": "YbLnHakgOx2j",
        "colab_type": "text"
      },
      "source": [
        "### Libraries imported"
      ]
    },
    {
      "cell_type": "code",
      "metadata": {
        "id": "CoWCRPyb4TMi",
        "colab_type": "code",
        "colab": {}
      },
      "source": [
        "from tensorflow.keras.applications.vgg16 import VGG16\n",
        "from tensorflow.keras.preprocessing import image\n",
        "from tensorflow.keras.applications.vgg16 import preprocess_input\n",
        "import numpy as np\n",
        "from scipy import spatial\n",
        "from os import listdir\n",
        "import IPython.display as display\n",
        "import matplotlib.pyplot as plt\n",
        "from random import randrange"
      ],
      "execution_count": 0,
      "outputs": []
    },
    {
      "cell_type": "code",
      "metadata": {
        "id": "6_e15hdNYT3R",
        "colab_type": "code",
        "colab": {
          "base_uri": "https://localhost:8080/",
          "height": 169
        },
        "outputId": "29c99c2c-7b77-4c52-9531-5b30c8ca55bb"
      },
      "source": [
        "from google.colab import drive\n",
        "drive.mount('/content/gdrive', force_remount=True)"
      ],
      "execution_count": 3,
      "outputs": [
        {
          "output_type": "stream",
          "text": [
            "Go to this URL in a browser: https://accounts.google.com/o/oauth2/auth?client_id=947318989803-6bn6qk8qdgf4n4g3pfee6491hc0brc4i.apps.googleusercontent.com&redirect_uri=urn%3aietf%3awg%3aoauth%3a2.0%3aoob&response_type=code&scope=email%20https%3a%2f%2fwww.googleapis.com%2fauth%2fdocs.test%20https%3a%2f%2fwww.googleapis.com%2fauth%2fdrive%20https%3a%2f%2fwww.googleapis.com%2fauth%2fdrive.photos.readonly%20https%3a%2f%2fwww.googleapis.com%2fauth%2fpeopleapi.readonly\n",
            "\n",
            "Enter your authorization code:\n",
            "··········\n",
            "Mounted at /content/gdrive\n"
          ],
          "name": "stdout"
        }
      ]
    },
    {
      "cell_type": "markdown",
      "metadata": {
        "id": "z_l0nbBPPEcX",
        "colab_type": "text"
      },
      "source": [
        "### Download VGG"
      ]
    },
    {
      "cell_type": "code",
      "metadata": {
        "id": "dq8FhHYPOh_Z",
        "colab_type": "code",
        "outputId": "6e2fc15f-cb01-417a-be52-7d2427f88939",
        "colab": {
          "base_uri": "https://localhost:8080/",
          "height": 51
        }
      },
      "source": [
        "model = VGG16(weights='imagenet', include_top=False)"
      ],
      "execution_count": 4,
      "outputs": [
        {
          "output_type": "stream",
          "text": [
            "Downloading data from https://github.com/fchollet/deep-learning-models/releases/download/v0.1/vgg16_weights_tf_dim_ordering_tf_kernels_notop.h5\n",
            "58892288/58889256 [==============================] - 1s 0us/step\n"
          ],
          "name": "stdout"
        }
      ]
    },
    {
      "cell_type": "code",
      "metadata": {
        "id": "EIOO4zQQYjfO",
        "colab_type": "code",
        "colab": {}
      },
      "source": [
        "cp gdrive/My\\ Drive/celeb.zip ."
      ],
      "execution_count": 0,
      "outputs": []
    },
    {
      "cell_type": "markdown",
      "metadata": {
        "id": "cqz_4XzpPJw6",
        "colab_type": "text"
      },
      "source": [
        "### unzip file"
      ]
    },
    {
      "cell_type": "code",
      "metadata": {
        "id": "oYqDHLv8D80B",
        "colab_type": "code",
        "colab": {}
      },
      "source": [
        "%%capture\n",
        "!unzip celeb.zip"
      ],
      "execution_count": 0,
      "outputs": []
    },
    {
      "cell_type": "markdown",
      "metadata": {
        "id": "c9uO-_n4PNC0",
        "colab_type": "text"
      },
      "source": [
        "### Image to Embedding"
      ]
    },
    {
      "cell_type": "code",
      "metadata": {
        "id": "KFMAb2mdGT2y",
        "colab_type": "code",
        "colab": {}
      },
      "source": [
        "base_path = '/content/celeb'"
      ],
      "execution_count": 0,
      "outputs": []
    },
    {
      "cell_type": "code",
      "metadata": {
        "id": "H_jVn7hKdWtt",
        "colab_type": "code",
        "colab": {
          "base_uri": "https://localhost:8080/",
          "height": 34
        },
        "outputId": "dcf203e0-5690-49db-a092-f73a2bbe1eaa"
      },
      "source": [
        "import pathlib\n",
        "\n",
        "train_images_folder = pathlib.Path(base_path+'/train')\n",
        "test_images_folder = pathlib.Path(base_path+'/test')\n",
        "\n",
        "print(train_images_folder)"
      ],
      "execution_count": 19,
      "outputs": [
        {
          "output_type": "stream",
          "text": [
            "/content/celeb/train\n"
          ],
          "name": "stdout"
        }
      ]
    },
    {
      "cell_type": "code",
      "metadata": {
        "id": "RXCQBRzNdjQG",
        "colab_type": "code",
        "colab": {}
      },
      "source": [
        "train_image_paths = list(train_images_folder.glob('*/*'))\n",
        "train_image_paths = [str(path) for path in train_image_paths]\n",
        "\n",
        "test_image_paths = list(test_images_folder.glob('*/*'))\n",
        "test_image_paths = [str(path) for path in test_image_paths]"
      ],
      "execution_count": 0,
      "outputs": []
    },
    {
      "cell_type": "code",
      "metadata": {
        "id": "5EdEa_0uf4XA",
        "colab_type": "code",
        "colab": {
          "base_uri": "https://localhost:8080/",
          "height": 51
        },
        "outputId": "7d9d95e6-a1a6-40f0-aa9b-6a7b32c4ba8c"
      },
      "source": [
        "print(len(train_image_paths))\n",
        "print(len(test_image_paths))"
      ],
      "execution_count": 23,
      "outputs": [
        {
          "output_type": "stream",
          "text": [
            "1144\n",
            "286\n"
          ],
          "name": "stdout"
        }
      ]
    },
    {
      "cell_type": "code",
      "metadata": {
        "id": "Np1skjYnedmb",
        "colab_type": "code",
        "colab": {
          "base_uri": "https://localhost:8080/",
          "height": 187
        },
        "outputId": "30999e07-943a-4826-c9b8-8ab21a49f87e"
      },
      "source": [
        "train_image_paths[:10]"
      ],
      "execution_count": 21,
      "outputs": [
        {
          "output_type": "execute_result",
          "data": {
            "text/plain": [
              "['/content/celeb/train/Andy_Roddick/Andy_Roddick_0002.jpg',\n",
              " '/content/celeb/train/Andy_Roddick/Andy_Roddick_0006.jpg',\n",
              " '/content/celeb/train/Andy_Roddick/Andy_Roddick_0004.jpg',\n",
              " '/content/celeb/train/Andy_Roddick/Andy_Roddick_0003.jpg',\n",
              " '/content/celeb/train/Andy_Roddick/Andy_Roddick_0015.jpg',\n",
              " '/content/celeb/train/Andy_Roddick/Andy_Roddick_0005.jpg',\n",
              " '/content/celeb/train/Andy_Roddick/Andy_Roddick_0013.jpg',\n",
              " '/content/celeb/train/Andy_Roddick/Andy_Roddick_0010.jpg',\n",
              " '/content/celeb/train/Richard_Gephardt/Richard_Gephardt_0011.jpg',\n",
              " '/content/celeb/train/Richard_Gephardt/Richard_Gephardt_0006.jpg']"
            ]
          },
          "metadata": {
            "tags": []
          },
          "execution_count": 21
        }
      ]
    },
    {
      "cell_type": "code",
      "metadata": {
        "id": "MM5qZ56NeU9Z",
        "colab_type": "code",
        "colab": {}
      },
      "source": [
        "train_labels = [pathlib.Path(path).parent.name for path in train_image_paths] #path is str\n",
        "test_labels = [pathlib.Path(path).parent.name for path in test_image_paths]"
      ],
      "execution_count": 0,
      "outputs": []
    },
    {
      "cell_type": "code",
      "metadata": {
        "id": "rtlvZdxzlCnF",
        "colab_type": "code",
        "colab": {
          "base_uri": "https://localhost:8080/",
          "height": 187
        },
        "outputId": "d41ed85a-acde-4044-c520-da25c5a161f8"
      },
      "source": [
        "train_labels[:10]"
      ],
      "execution_count": 39,
      "outputs": [
        {
          "output_type": "execute_result",
          "data": {
            "text/plain": [
              "['Andy_Roddick',\n",
              " 'Andy_Roddick',\n",
              " 'Andy_Roddick',\n",
              " 'Andy_Roddick',\n",
              " 'Andy_Roddick',\n",
              " 'Andy_Roddick',\n",
              " 'Andy_Roddick',\n",
              " 'Andy_Roddick',\n",
              " 'Richard_Gephardt',\n",
              " 'Richard_Gephardt']"
            ]
          },
          "metadata": {
            "tags": []
          },
          "execution_count": 39
        }
      ]
    },
    {
      "cell_type": "code",
      "metadata": {
        "id": "5uqqXrsdlRi1",
        "colab_type": "code",
        "colab": {
          "base_uri": "https://localhost:8080/",
          "height": 187
        },
        "outputId": "ee0acb89-a1b6-4b87-e87c-ee79496b447c"
      },
      "source": [
        "test_labels[:10]"
      ],
      "execution_count": 40,
      "outputs": [
        {
          "output_type": "execute_result",
          "data": {
            "text/plain": [
              "['Andy_Roddick',\n",
              " 'Andy_Roddick',\n",
              " 'Richard_Gephardt',\n",
              " 'Richard_Gephardt',\n",
              " 'Ann_Veneman',\n",
              " 'Ann_Veneman',\n",
              " 'Tony_Blair',\n",
              " 'Tony_Blair',\n",
              " 'Eduardo_Duhalde',\n",
              " 'Eduardo_Duhalde']"
            ]
          },
          "metadata": {
            "tags": []
          },
          "execution_count": 40
        }
      ]
    },
    {
      "cell_type": "code",
      "metadata": {
        "id": "6nMKSD8uGgPx",
        "colab_type": "code",
        "colab": {}
      },
      "source": [
        "def get_embeddings(images_path):\n",
        "  feature_list = []\n",
        "  \n",
        "  for img in images_path:\n",
        "    img_1 = image.load_img(img, target_size=(224, 224)) \n",
        "    x = image.img_to_array(img_1)\n",
        "    #print(x.shape)\n",
        "    x = np.expand_dims(x, axis=0)\n",
        "    x = preprocess_input(x)\n",
        "    features_1 = model.predict(x).ravel()\n",
        "    feature_list.append(features_1)\n",
        "\n",
        "  return np.array(feature_list)"
      ],
      "execution_count": 0,
      "outputs": []
    },
    {
      "cell_type": "code",
      "metadata": {
        "id": "avV7LewEf-dh",
        "colab_type": "code",
        "colab": {}
      },
      "source": [
        "train_embeddings = get_embeddings(train_image_paths)"
      ],
      "execution_count": 0,
      "outputs": []
    },
    {
      "cell_type": "code",
      "metadata": {
        "id": "s82N_7aSg6K7",
        "colab_type": "code",
        "colab": {
          "base_uri": "https://localhost:8080/",
          "height": 34
        },
        "outputId": "8c595ecf-7a20-44e7-ecaf-9b32f2417035"
      },
      "source": [
        "train_embeddings.shape"
      ],
      "execution_count": 31,
      "outputs": [
        {
          "output_type": "execute_result",
          "data": {
            "text/plain": [
              "(1144, 25088)"
            ]
          },
          "metadata": {
            "tags": []
          },
          "execution_count": 31
        }
      ]
    },
    {
      "cell_type": "code",
      "metadata": {
        "id": "_uNN6LLqhGt1",
        "colab_type": "code",
        "colab": {}
      },
      "source": [
        "test_embeddings = get_embeddings(test_image_paths)"
      ],
      "execution_count": 0,
      "outputs": []
    },
    {
      "cell_type": "code",
      "metadata": {
        "id": "Fp8M6yI2hJVR",
        "colab_type": "code",
        "colab": {
          "base_uri": "https://localhost:8080/",
          "height": 34
        },
        "outputId": "d1f3c81e-535d-4f0a-fe27-b7a1a0e78ca1"
      },
      "source": [
        "test_embeddings.shape"
      ],
      "execution_count": 33,
      "outputs": [
        {
          "output_type": "execute_result",
          "data": {
            "text/plain": [
              "(286, 25088)"
            ]
          },
          "metadata": {
            "tags": []
          },
          "execution_count": 33
        }
      ]
    },
    {
      "cell_type": "markdown",
      "metadata": {
        "id": "J-BHZlu1hM7M",
        "colab_type": "text"
      },
      "source": [
        "# Evaluation on the test set"
      ]
    },
    {
      "cell_type": "code",
      "metadata": {
        "id": "ajTl9fDNhQhV",
        "colab_type": "code",
        "colab": {
          "base_uri": "https://localhost:8080/",
          "height": 646
        },
        "outputId": "b0f0e64c-22ad-4993-f08d-b23eab4e67ac"
      },
      "source": [
        "correct_identified = 0\n",
        "\n",
        "for index, test_img_embedding in enumerate(test_embeddings):\n",
        "  diff = (train_embeddings - test_img_embedding)**2\n",
        "  dist = np.sum(diff, axis=1)\n",
        "  # print(dist)\n",
        "  nearest_neighbors = np.argsort(dist)[:10]\n",
        "  # print(nearest_neighbors)\n",
        "  # print(test_labels[index], train_labels[nearest_neighbors[0]])\n",
        "\n",
        "  if test_labels[index] == train_labels[nearest_neighbors[0]]:\n",
        "    print(test_labels[index], train_labels[nearest_neighbors[0]])\n",
        "    correct_identified += 1\n",
        "\n",
        "  # show test image\n",
        "  # display.display(display.Image(test_image_paths[index]))\n",
        "  \n",
        "  # show the nearest images\n",
        "  # for ind in nearest_neighbors:\n",
        "  #   print(train_labels[ind])\n",
        "  #   display.display(display.Image(train_image_paths[ind]))\n"
      ],
      "execution_count": 48,
      "outputs": [
        {
          "output_type": "stream",
          "text": [
            "Jack_Straw Jack_Straw\n",
            "John_Allen_Muhammad John_Allen_Muhammad\n",
            "John_Allen_Muhammad John_Allen_Muhammad\n",
            "Adrien_Brody Adrien_Brody\n",
            "James_Blake James_Blake\n",
            "Guillermo_Coria Guillermo_Coria\n",
            "Jiang_Zemin Jiang_Zemin\n",
            "Jiang_Zemin Jiang_Zemin\n",
            "John_Paul_II John_Paul_II\n",
            "Jennifer_Aniston Jennifer_Aniston\n",
            "Atal_Bihari_Vajpayee Atal_Bihari_Vajpayee\n",
            "Saddam_Hussein Saddam_Hussein\n",
            "Saddam_Hussein Saddam_Hussein\n",
            "Joe_Lieberman Joe_Lieberman\n",
            "Lindsay_Davenport Lindsay_Davenport\n",
            "Angelina_Jolie Angelina_Jolie\n",
            "Venus_Williams Venus_Williams\n",
            "Dominique_de_Villepin Dominique_de_Villepin\n",
            "Joschka_Fischer Joschka_Fischer\n",
            "Julie_Gerberding Julie_Gerberding\n",
            "Dick_Cheney Dick_Cheney\n",
            "Ari_Fleischer Ari_Fleischer\n",
            "Mike_Weir Mike_Weir\n",
            "Mike_Weir Mike_Weir\n",
            "Sergey_Lavrov Sergey_Lavrov\n",
            "Hu_Jintao Hu_Jintao\n",
            "Lleyton_Hewitt Lleyton_Hewitt\n",
            "Carlos_Moya Carlos_Moya\n",
            "Howard_Dean Howard_Dean\n",
            "Mark_Philippoussis Mark_Philippoussis\n",
            "Britney_Spears Britney_Spears\n",
            "Britney_Spears Britney_Spears\n",
            "Pierce_Brosnan Pierce_Brosnan\n",
            "Winona_Ryder Winona_Ryder\n",
            "Gordon_Brown Gordon_Brown\n",
            "Sergio_Vieira_De_Mello Sergio_Vieira_De_Mello\n",
            "Jacques_Chirac Jacques_Chirac\n"
          ],
          "name": "stdout"
        }
      ]
    },
    {
      "cell_type": "code",
      "metadata": {
        "id": "SNN2xDUJjfnB",
        "colab_type": "code",
        "colab": {
          "base_uri": "https://localhost:8080/",
          "height": 34
        },
        "outputId": "ffc1c08c-649a-45de-8122-2243bd7e4120"
      },
      "source": [
        "correct_identified"
      ],
      "execution_count": 49,
      "outputs": [
        {
          "output_type": "execute_result",
          "data": {
            "text/plain": [
              "37"
            ]
          },
          "metadata": {
            "tags": []
          },
          "execution_count": 49
        }
      ]
    },
    {
      "cell_type": "markdown",
      "metadata": {
        "id": "0WZ5UCPEPQ3j",
        "colab_type": "text"
      },
      "source": [
        "### Similarity Matrix"
      ]
    },
    {
      "cell_type": "code",
      "metadata": {
        "id": "SzWnno24IA2p",
        "colab_type": "code",
        "colab": {}
      },
      "source": [
        "# num = len(file_list)\n",
        "# sim_matrix = np.zeros((num,num))\n",
        "\n",
        "# for i in range(num):\n",
        "#   for j in range(num):\n",
        "#     sim_matrix[i][j] = 1 - spatial.distance.cosine(feature_list[i], feature_list[j])\n"
      ],
      "execution_count": 0,
      "outputs": []
    },
    {
      "cell_type": "markdown",
      "metadata": {
        "id": "8vnkZgrqPWfQ",
        "colab_type": "text"
      },
      "source": [
        "### Validate on Sample"
      ]
    },
    {
      "cell_type": "code",
      "metadata": {
        "id": "z8XhdGe9LAHQ",
        "colab_type": "code",
        "colab": {}
      },
      "source": [
        "# rand_index = randrange(num)\n",
        "# sort_index = np.argsort(sim_matrix[rand_index])"
      ],
      "execution_count": 0,
      "outputs": []
    },
    {
      "cell_type": "markdown",
      "metadata": {
        "id": "_74b0DT6RVSK",
        "colab_type": "text"
      },
      "source": [
        "Top 10 similar pokemons"
      ]
    },
    {
      "cell_type": "code",
      "metadata": {
        "id": "6b2FuLLoHSJc",
        "colab_type": "code",
        "colab": {}
      },
      "source": [
        "# top_sim = sort_index[::-1][1:10]\n",
        "# display.display(display.Image(path+listdir(path)[rand_index] ))\n",
        "\n",
        "# for ind in top_sim:\n",
        "#   display.display(display.Image(path+listdir(path)[ind] ))"
      ],
      "execution_count": 0,
      "outputs": []
    },
    {
      "cell_type": "markdown",
      "metadata": {
        "id": "hhdVySNORY5-",
        "colab_type": "text"
      },
      "source": [
        "Top 10 disimilar pokemons"
      ]
    },
    {
      "cell_type": "code",
      "metadata": {
        "id": "pXRYvezRMkpe",
        "colab_type": "code",
        "colab": {}
      },
      "source": [
        "# top_dis_sim = sort_index[1:10]\n",
        "# display.display(display.Image(path+listdir(path)[rand_index] ))\n",
        "\n",
        "# for ind in top_dis_sim:\n",
        "#   display.display(display.Image(path+listdir(path)[ind] ))"
      ],
      "execution_count": 0,
      "outputs": []
    }
  ]
}