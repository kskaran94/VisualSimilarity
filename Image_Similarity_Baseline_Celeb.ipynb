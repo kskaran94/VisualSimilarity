{
  "nbformat": 4,
  "nbformat_minor": 0,
  "metadata": {
    "accelerator": "GPU",
    "colab": {
      "name": "Image_Similarity_Baseline_Celeb",
      "provenance": [],
      "collapsed_sections": [],
      "include_colab_link": true
    },
    "kernelspec": {
      "display_name": "Python 3",
      "language": "python",
      "name": "python3"
    },
    "language_info": {
      "codemirror_mode": {
        "name": "ipython",
        "version": 3
      },
      "file_extension": ".py",
      "mimetype": "text/x-python",
      "name": "python",
      "nbconvert_exporter": "python",
      "pygments_lexer": "ipython3",
      "version": "3.6.8"
    }
  },
  "cells": [
    {
      "cell_type": "markdown",
      "metadata": {
        "id": "view-in-github",
        "colab_type": "text"
      },
      "source": [
        "<a href=\"https://colab.research.google.com/github/kskaran94/VisualSimilarity/blob/master/Image_Similarity_Baseline_Celeb.ipynb\" target=\"_parent\"><img src=\"https://colab.research.google.com/assets/colab-badge.svg\" alt=\"Open In Colab\"/></a>"
      ]
    },
    {
      "cell_type": "markdown",
      "metadata": {
        "colab_type": "text",
        "id": "bSZGflqOOqk-"
      },
      "source": [
        "### Running script on TF 2.0"
      ]
    },
    {
      "cell_type": "code",
      "metadata": {
        "colab_type": "code",
        "id": "vu0J0YIQHgXF",
        "outputId": "9e0f19e6-979f-41a2-883b-3e452826485a",
        "colab": {
          "base_uri": "https://localhost:8080/",
          "height": 102
        }
      },
      "source": [
        "try:\n",
        "  %tensorflow_version 2.x # enable TF 2.x in Colab\n",
        "except Exception:\n",
        "  pass"
      ],
      "execution_count": 1,
      "outputs": [
        {
          "output_type": "stream",
          "text": [
            "`%tensorflow_version` only switches the major version: `1.x` or `2.x`.\n",
            "You set: `2.x # enable TF 2.x in Colab`. This will be interpreted as: `2.x`.\n",
            "\n",
            "\n",
            "TensorFlow 2.x selected.\n"
          ],
          "name": "stdout"
        }
      ]
    },
    {
      "cell_type": "markdown",
      "metadata": {
        "colab_type": "text",
        "id": "YbLnHakgOx2j"
      },
      "source": [
        "### Libraries imported"
      ]
    },
    {
      "cell_type": "code",
      "metadata": {
        "colab_type": "code",
        "id": "CoWCRPyb4TMi",
        "colab": {}
      },
      "source": [
        "from tensorflow.keras.applications.vgg16 import VGG16\n",
        "from tensorflow.keras.preprocessing import image\n",
        "from tensorflow.keras.applications.vgg16 import preprocess_input\n",
        "import numpy as np\n",
        "from scipy import spatial\n",
        "from os import listdir\n",
        "import IPython.display as display\n",
        "import matplotlib.pyplot as plt\n",
        "from random import randrange"
      ],
      "execution_count": 0,
      "outputs": []
    },
    {
      "cell_type": "code",
      "metadata": {
        "colab_type": "code",
        "id": "6_e15hdNYT3R",
        "outputId": "32e23e5c-2af9-479d-d554-e6de9d55819d",
        "colab": {
          "base_uri": "https://localhost:8080/",
          "height": 122
        }
      },
      "source": [
        "from google.colab import drive\n",
        "drive.mount('/content/gdrive', force_remount=True)"
      ],
      "execution_count": 3,
      "outputs": [
        {
          "output_type": "stream",
          "text": [
            "Go to this URL in a browser: https://accounts.google.com/o/oauth2/auth?client_id=947318989803-6bn6qk8qdgf4n4g3pfee6491hc0brc4i.apps.googleusercontent.com&redirect_uri=urn%3aietf%3awg%3aoauth%3a2.0%3aoob&response_type=code&scope=email%20https%3a%2f%2fwww.googleapis.com%2fauth%2fdocs.test%20https%3a%2f%2fwww.googleapis.com%2fauth%2fdrive%20https%3a%2f%2fwww.googleapis.com%2fauth%2fdrive.photos.readonly%20https%3a%2f%2fwww.googleapis.com%2fauth%2fpeopleapi.readonly\n",
            "\n",
            "Enter your authorization code:\n",
            "··········\n",
            "Mounted at /content/gdrive\n"
          ],
          "name": "stdout"
        }
      ]
    },
    {
      "cell_type": "markdown",
      "metadata": {
        "colab_type": "text",
        "id": "z_l0nbBPPEcX"
      },
      "source": [
        "### Download VGG"
      ]
    },
    {
      "cell_type": "code",
      "metadata": {
        "colab_type": "code",
        "id": "dq8FhHYPOh_Z",
        "outputId": "b9db6555-4130-4064-dbd7-1be9e69a8930",
        "colab": {
          "base_uri": "https://localhost:8080/",
          "height": 51
        }
      },
      "source": [
        "model = VGG16(weights='imagenet', include_top=False)"
      ],
      "execution_count": 4,
      "outputs": [
        {
          "output_type": "stream",
          "text": [
            "Downloading data from https://github.com/fchollet/deep-learning-models/releases/download/v0.1/vgg16_weights_tf_dim_ordering_tf_kernels_notop.h5\n",
            "58892288/58889256 [==============================] - 2s 0us/step\n"
          ],
          "name": "stdout"
        }
      ]
    },
    {
      "cell_type": "code",
      "metadata": {
        "colab_type": "code",
        "id": "EIOO4zQQYjfO",
        "colab": {}
      },
      "source": [
        "cp gdrive/My\\ Drive/celeb.zip ."
      ],
      "execution_count": 0,
      "outputs": []
    },
    {
      "cell_type": "markdown",
      "metadata": {
        "colab_type": "text",
        "id": "cqz_4XzpPJw6"
      },
      "source": [
        "### unzip file"
      ]
    },
    {
      "cell_type": "code",
      "metadata": {
        "colab_type": "code",
        "id": "oYqDHLv8D80B",
        "colab": {}
      },
      "source": [
        "%%capture\n",
        "!unzip celeb.zip -d celeb"
      ],
      "execution_count": 0,
      "outputs": []
    },
    {
      "cell_type": "markdown",
      "metadata": {
        "colab_type": "text",
        "id": "c9uO-_n4PNC0"
      },
      "source": [
        "### Image to Embedding"
      ]
    },
    {
      "cell_type": "code",
      "metadata": {
        "colab_type": "code",
        "id": "KFMAb2mdGT2y",
        "colab": {}
      },
      "source": [
        "base_path = '/content/celeb'"
      ],
      "execution_count": 0,
      "outputs": []
    },
    {
      "cell_type": "code",
      "metadata": {
        "colab_type": "code",
        "id": "H_jVn7hKdWtt",
        "outputId": "ed8ebfd9-bffa-4e74-bbd4-f158617bccf6",
        "colab": {
          "base_uri": "https://localhost:8080/",
          "height": 34
        }
      },
      "source": [
        "import pathlib\n",
        "\n",
        "train_images_folder = pathlib.Path(base_path+'/train')\n",
        "test_images_folder = pathlib.Path(base_path+'/test')\n",
        "\n",
        "print(train_images_folder)"
      ],
      "execution_count": 8,
      "outputs": [
        {
          "output_type": "stream",
          "text": [
            "/content/celeb/train\n"
          ],
          "name": "stdout"
        }
      ]
    },
    {
      "cell_type": "code",
      "metadata": {
        "colab_type": "code",
        "id": "RXCQBRzNdjQG",
        "colab": {}
      },
      "source": [
        "train_image_paths = list(train_images_folder.glob('*/*'))\n",
        "train_image_paths = [str(path) for path in train_image_paths]\n",
        "\n",
        "test_image_paths = list(test_images_folder.glob('*/*'))\n",
        "test_image_paths = [str(path) for path in test_image_paths]"
      ],
      "execution_count": 0,
      "outputs": []
    },
    {
      "cell_type": "code",
      "metadata": {
        "colab_type": "code",
        "id": "5EdEa_0uf4XA",
        "outputId": "ff01cc07-3ba6-4ab0-d4b7-fedd715e0bd1",
        "colab": {
          "base_uri": "https://localhost:8080/",
          "height": 51
        }
      },
      "source": [
        "print(len(train_image_paths))\n",
        "print(len(test_image_paths))"
      ],
      "execution_count": 10,
      "outputs": [
        {
          "output_type": "stream",
          "text": [
            "1144\n",
            "286\n"
          ],
          "name": "stdout"
        }
      ]
    },
    {
      "cell_type": "code",
      "metadata": {
        "colab_type": "code",
        "id": "Np1skjYnedmb",
        "outputId": "2ffb3d77-d520-430f-a60b-9e41bb0d4249",
        "colab": {
          "base_uri": "https://localhost:8080/",
          "height": 187
        }
      },
      "source": [
        "train_image_paths[:10]"
      ],
      "execution_count": 11,
      "outputs": [
        {
          "output_type": "execute_result",
          "data": {
            "text/plain": [
              "['/content/celeb/train/David_Nalbandian/David_Nalbandian_0012.jpg',\n",
              " '/content/celeb/train/David_Nalbandian/David_Nalbandian_0005.jpg',\n",
              " '/content/celeb/train/David_Nalbandian/David_Nalbandian_0008.jpg',\n",
              " '/content/celeb/train/David_Nalbandian/David_Nalbandian_0001.jpg',\n",
              " '/content/celeb/train/David_Nalbandian/David_Nalbandian_0009.jpg',\n",
              " '/content/celeb/train/David_Nalbandian/David_Nalbandian_0006.jpg',\n",
              " '/content/celeb/train/David_Nalbandian/David_Nalbandian_0002.jpg',\n",
              " '/content/celeb/train/David_Nalbandian/David_Nalbandian_0014.jpg',\n",
              " '/content/celeb/train/Kim_Clijsters/Kim_Clijsters_0010.jpg',\n",
              " '/content/celeb/train/Kim_Clijsters/Kim_Clijsters_0004.jpg']"
            ]
          },
          "metadata": {
            "tags": []
          },
          "execution_count": 11
        }
      ]
    },
    {
      "cell_type": "code",
      "metadata": {
        "colab_type": "code",
        "id": "MM5qZ56NeU9Z",
        "colab": {}
      },
      "source": [
        "train_labels = [pathlib.Path(path).parent.name for path in train_image_paths] #path is str\n",
        "test_labels = [pathlib.Path(path).parent.name for path in test_image_paths]"
      ],
      "execution_count": 0,
      "outputs": []
    },
    {
      "cell_type": "code",
      "metadata": {
        "colab_type": "code",
        "id": "rtlvZdxzlCnF",
        "outputId": "3a21e413-3fff-4a6e-8aa8-47a87e980d04",
        "colab": {
          "base_uri": "https://localhost:8080/",
          "height": 187
        }
      },
      "source": [
        "train_labels[:10]"
      ],
      "execution_count": 13,
      "outputs": [
        {
          "output_type": "execute_result",
          "data": {
            "text/plain": [
              "['David_Nalbandian',\n",
              " 'David_Nalbandian',\n",
              " 'David_Nalbandian',\n",
              " 'David_Nalbandian',\n",
              " 'David_Nalbandian',\n",
              " 'David_Nalbandian',\n",
              " 'David_Nalbandian',\n",
              " 'David_Nalbandian',\n",
              " 'Kim_Clijsters',\n",
              " 'Kim_Clijsters']"
            ]
          },
          "metadata": {
            "tags": []
          },
          "execution_count": 13
        }
      ]
    },
    {
      "cell_type": "code",
      "metadata": {
        "colab_type": "code",
        "id": "5uqqXrsdlRi1",
        "outputId": "9515ad1a-8b97-4d6e-ab80-f756c281874c",
        "colab": {
          "base_uri": "https://localhost:8080/",
          "height": 187
        }
      },
      "source": [
        "test_labels[:10]"
      ],
      "execution_count": 14,
      "outputs": [
        {
          "output_type": "execute_result",
          "data": {
            "text/plain": [
              "['David_Nalbandian',\n",
              " 'David_Nalbandian',\n",
              " 'Kim_Clijsters',\n",
              " 'Kim_Clijsters',\n",
              " 'Jackie_Chan',\n",
              " 'Jackie_Chan',\n",
              " 'Jiang_Zemin',\n",
              " 'Jiang_Zemin',\n",
              " 'Wen_Jiabao',\n",
              " 'Wen_Jiabao']"
            ]
          },
          "metadata": {
            "tags": []
          },
          "execution_count": 14
        }
      ]
    },
    {
      "cell_type": "code",
      "metadata": {
        "colab_type": "code",
        "id": "6nMKSD8uGgPx",
        "colab": {}
      },
      "source": [
        "def get_embeddings(images_path):\n",
        "  feature_list = []\n",
        "  \n",
        "  for img in images_path:\n",
        "    img_1 = image.load_img(img, target_size=(224, 224)) \n",
        "    x = image.img_to_array(img_1)\n",
        "    #print(x.shape)\n",
        "    x = np.expand_dims(x, axis=0)\n",
        "    x = preprocess_input(x)\n",
        "    features_1 = model.predict(x).ravel()\n",
        "    feature_list.append(features_1)\n",
        "\n",
        "  return np.array(feature_list)"
      ],
      "execution_count": 0,
      "outputs": []
    },
    {
      "cell_type": "code",
      "metadata": {
        "colab_type": "code",
        "id": "avV7LewEf-dh",
        "colab": {}
      },
      "source": [
        "train_embeddings = get_embeddings(train_image_paths)"
      ],
      "execution_count": 0,
      "outputs": []
    },
    {
      "cell_type": "code",
      "metadata": {
        "colab_type": "code",
        "id": "s82N_7aSg6K7",
        "outputId": "8068ac1b-0cc1-4b02-85e7-138fef57be2e",
        "colab": {
          "base_uri": "https://localhost:8080/",
          "height": 34
        }
      },
      "source": [
        "train_embeddings.shape"
      ],
      "execution_count": 17,
      "outputs": [
        {
          "output_type": "execute_result",
          "data": {
            "text/plain": [
              "(1144, 25088)"
            ]
          },
          "metadata": {
            "tags": []
          },
          "execution_count": 17
        }
      ]
    },
    {
      "cell_type": "code",
      "metadata": {
        "colab_type": "code",
        "id": "_uNN6LLqhGt1",
        "colab": {}
      },
      "source": [
        "test_embeddings = get_embeddings(test_image_paths)"
      ],
      "execution_count": 0,
      "outputs": []
    },
    {
      "cell_type": "code",
      "metadata": {
        "colab_type": "code",
        "id": "Fp8M6yI2hJVR",
        "outputId": "4bed8721-6040-4446-cdad-cdc9c46002b2",
        "colab": {
          "base_uri": "https://localhost:8080/",
          "height": 34
        }
      },
      "source": [
        "test_embeddings.shape"
      ],
      "execution_count": 19,
      "outputs": [
        {
          "output_type": "execute_result",
          "data": {
            "text/plain": [
              "(286, 25088)"
            ]
          },
          "metadata": {
            "tags": []
          },
          "execution_count": 19
        }
      ]
    },
    {
      "cell_type": "markdown",
      "metadata": {
        "colab_type": "text",
        "id": "J-BHZlu1hM7M"
      },
      "source": [
        "# Evaluation on the test set"
      ]
    },
    {
      "cell_type": "code",
      "metadata": {
        "colab_type": "code",
        "id": "ajTl9fDNhQhV",
        "colab": {}
      },
      "source": [
        "correct_identified = 0\n",
        "\n",
        "for index, test_img_embedding in enumerate(test_embeddings):\n",
        "  diff = (train_embeddings - test_img_embedding)**2\n",
        "  dist = np.sum(diff, axis=1)\n",
        "  nearest_neighbors = np.argsort(dist)[:10]\n",
        "  \n",
        "  if test_labels[index] in np.array(train_labels)[nearest_neighbors[:10]]:\n",
        "    #print(test_labels[index], train_full_labels[nearest_neighbors[0]])\n",
        "    correct_identified += 1\n"
      ],
      "execution_count": 0,
      "outputs": []
    },
    {
      "cell_type": "code",
      "metadata": {
        "colab_type": "code",
        "id": "SNN2xDUJjfnB",
        "outputId": "b9af094a-9d61-414f-e723-a482df82d4b1",
        "colab": {
          "base_uri": "https://localhost:8080/",
          "height": 34
        }
      },
      "source": [
        "print(\"Accuracy is \", correct_identified / test_embeddings.shape[0])\n"
      ],
      "execution_count": 23,
      "outputs": [
        {
          "output_type": "stream",
          "text": [
            "Accuracy is  0.4020979020979021\n"
          ],
          "name": "stdout"
        }
      ]
    }
  ]
}