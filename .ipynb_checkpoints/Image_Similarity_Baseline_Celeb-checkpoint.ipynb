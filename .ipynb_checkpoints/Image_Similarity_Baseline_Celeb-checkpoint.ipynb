{
 "cells": [
  {
   "cell_type": "markdown",
   "metadata": {
    "colab_type": "text",
    "id": "bSZGflqOOqk-"
   },
   "source": [
    "### Running script on TF 2.0"
   ]
  },
  {
   "cell_type": "code",
   "execution_count": 1,
   "metadata": {
    "colab": {
     "base_uri": "https://localhost:8080/",
     "height": 102
    },
    "colab_type": "code",
    "id": "vu0J0YIQHgXF",
    "outputId": "eab1ea27-91b2-40ab-b985-00f1e38c338f"
   },
   "outputs": [
    {
     "name": "stdout",
     "output_type": "stream",
     "text": [
      "`%tensorflow_version` only switches the major version: `1.x` or `2.x`.\n",
      "You set: `2.x # enable TF 2.x in Colab`. This will be interpreted as: `2.x`.\n",
      "\n",
      "\n",
      "TensorFlow 2.x selected.\n"
     ]
    }
   ],
   "source": [
    "try:\n",
    "  %tensorflow_version 2.x # enable TF 2.x in Colab\n",
    "except Exception:\n",
    "  pass"
   ]
  },
  {
   "cell_type": "markdown",
   "metadata": {
    "colab_type": "text",
    "id": "YbLnHakgOx2j"
   },
   "source": [
    "### Libraries imported"
   ]
  },
  {
   "cell_type": "code",
   "execution_count": 0,
   "metadata": {
    "colab": {},
    "colab_type": "code",
    "id": "CoWCRPyb4TMi"
   },
   "outputs": [],
   "source": [
    "from tensorflow.keras.applications.vgg16 import VGG16\n",
    "from tensorflow.keras.preprocessing import image\n",
    "from tensorflow.keras.applications.vgg16 import preprocess_input\n",
    "import numpy as np\n",
    "from scipy import spatial\n",
    "from os import listdir\n",
    "import IPython.display as display\n",
    "import matplotlib.pyplot as plt\n",
    "from random import randrange"
   ]
  },
  {
   "cell_type": "code",
   "execution_count": 3,
   "metadata": {
    "colab": {
     "base_uri": "https://localhost:8080/",
     "height": 169
    },
    "colab_type": "code",
    "id": "6_e15hdNYT3R",
    "outputId": "29c99c2c-7b77-4c52-9531-5b30c8ca55bb"
   },
   "outputs": [
    {
     "name": "stdout",
     "output_type": "stream",
     "text": [
      "Go to this URL in a browser: https://accounts.google.com/o/oauth2/auth?client_id=947318989803-6bn6qk8qdgf4n4g3pfee6491hc0brc4i.apps.googleusercontent.com&redirect_uri=urn%3aietf%3awg%3aoauth%3a2.0%3aoob&response_type=code&scope=email%20https%3a%2f%2fwww.googleapis.com%2fauth%2fdocs.test%20https%3a%2f%2fwww.googleapis.com%2fauth%2fdrive%20https%3a%2f%2fwww.googleapis.com%2fauth%2fdrive.photos.readonly%20https%3a%2f%2fwww.googleapis.com%2fauth%2fpeopleapi.readonly\n",
      "\n",
      "Enter your authorization code:\n",
      "··········\n",
      "Mounted at /content/gdrive\n"
     ]
    }
   ],
   "source": [
    "from google.colab import drive\n",
    "drive.mount('/content/gdrive', force_remount=True)"
   ]
  },
  {
   "cell_type": "markdown",
   "metadata": {
    "colab_type": "text",
    "id": "z_l0nbBPPEcX"
   },
   "source": [
    "### Download VGG"
   ]
  },
  {
   "cell_type": "code",
   "execution_count": 4,
   "metadata": {
    "colab": {
     "base_uri": "https://localhost:8080/",
     "height": 51
    },
    "colab_type": "code",
    "id": "dq8FhHYPOh_Z",
    "outputId": "6e2fc15f-cb01-417a-be52-7d2427f88939"
   },
   "outputs": [
    {
     "name": "stdout",
     "output_type": "stream",
     "text": [
      "Downloading data from https://github.com/fchollet/deep-learning-models/releases/download/v0.1/vgg16_weights_tf_dim_ordering_tf_kernels_notop.h5\n",
      "58892288/58889256 [==============================] - 1s 0us/step\n"
     ]
    }
   ],
   "source": [
    "model = VGG16(weights='imagenet', include_top=False)"
   ]
  },
  {
   "cell_type": "code",
   "execution_count": 0,
   "metadata": {
    "colab": {},
    "colab_type": "code",
    "id": "EIOO4zQQYjfO"
   },
   "outputs": [],
   "source": [
    "cp gdrive/My\\ Drive/celeb.zip ."
   ]
  },
  {
   "cell_type": "markdown",
   "metadata": {
    "colab_type": "text",
    "id": "cqz_4XzpPJw6"
   },
   "source": [
    "### unzip file"
   ]
  },
  {
   "cell_type": "code",
   "execution_count": 0,
   "metadata": {
    "colab": {},
    "colab_type": "code",
    "id": "oYqDHLv8D80B"
   },
   "outputs": [],
   "source": [
    "%%capture\n",
    "!unzip celeb.zip -d celeb"
   ]
  },
  {
   "cell_type": "markdown",
   "metadata": {
    "colab_type": "text",
    "id": "c9uO-_n4PNC0"
   },
   "source": [
    "### Image to Embedding"
   ]
  },
  {
   "cell_type": "code",
   "execution_count": 0,
   "metadata": {
    "colab": {},
    "colab_type": "code",
    "id": "KFMAb2mdGT2y"
   },
   "outputs": [],
   "source": [
    "base_path = '/content/celeb'"
   ]
  },
  {
   "cell_type": "code",
   "execution_count": 19,
   "metadata": {
    "colab": {
     "base_uri": "https://localhost:8080/",
     "height": 34
    },
    "colab_type": "code",
    "id": "H_jVn7hKdWtt",
    "outputId": "dcf203e0-5690-49db-a092-f73a2bbe1eaa"
   },
   "outputs": [
    {
     "name": "stdout",
     "output_type": "stream",
     "text": [
      "/content/celeb/train\n"
     ]
    }
   ],
   "source": [
    "import pathlib\n",
    "\n",
    "train_images_folder = pathlib.Path(base_path+'/train')\n",
    "test_images_folder = pathlib.Path(base_path+'/test')\n",
    "\n",
    "print(train_images_folder)"
   ]
  },
  {
   "cell_type": "code",
   "execution_count": 0,
   "metadata": {
    "colab": {},
    "colab_type": "code",
    "id": "RXCQBRzNdjQG"
   },
   "outputs": [],
   "source": [
    "train_image_paths = list(train_images_folder.glob('*/*'))\n",
    "train_image_paths = [str(path) for path in train_image_paths]\n",
    "\n",
    "test_image_paths = list(test_images_folder.glob('*/*'))\n",
    "test_image_paths = [str(path) for path in test_image_paths]"
   ]
  },
  {
   "cell_type": "code",
   "execution_count": 23,
   "metadata": {
    "colab": {
     "base_uri": "https://localhost:8080/",
     "height": 51
    },
    "colab_type": "code",
    "id": "5EdEa_0uf4XA",
    "outputId": "7d9d95e6-a1a6-40f0-aa9b-6a7b32c4ba8c"
   },
   "outputs": [
    {
     "name": "stdout",
     "output_type": "stream",
     "text": [
      "1144\n",
      "286\n"
     ]
    }
   ],
   "source": [
    "print(len(train_image_paths))\n",
    "print(len(test_image_paths))"
   ]
  },
  {
   "cell_type": "code",
   "execution_count": 21,
   "metadata": {
    "colab": {
     "base_uri": "https://localhost:8080/",
     "height": 187
    },
    "colab_type": "code",
    "id": "Np1skjYnedmb",
    "outputId": "30999e07-943a-4826-c9b8-8ab21a49f87e"
   },
   "outputs": [
    {
     "data": {
      "text/plain": [
       "['/content/celeb/train/Andy_Roddick/Andy_Roddick_0002.jpg',\n",
       " '/content/celeb/train/Andy_Roddick/Andy_Roddick_0006.jpg',\n",
       " '/content/celeb/train/Andy_Roddick/Andy_Roddick_0004.jpg',\n",
       " '/content/celeb/train/Andy_Roddick/Andy_Roddick_0003.jpg',\n",
       " '/content/celeb/train/Andy_Roddick/Andy_Roddick_0015.jpg',\n",
       " '/content/celeb/train/Andy_Roddick/Andy_Roddick_0005.jpg',\n",
       " '/content/celeb/train/Andy_Roddick/Andy_Roddick_0013.jpg',\n",
       " '/content/celeb/train/Andy_Roddick/Andy_Roddick_0010.jpg',\n",
       " '/content/celeb/train/Richard_Gephardt/Richard_Gephardt_0011.jpg',\n",
       " '/content/celeb/train/Richard_Gephardt/Richard_Gephardt_0006.jpg']"
      ]
     },
     "execution_count": 21,
     "metadata": {
      "tags": []
     },
     "output_type": "execute_result"
    }
   ],
   "source": [
    "train_image_paths[:10]"
   ]
  },
  {
   "cell_type": "code",
   "execution_count": 0,
   "metadata": {
    "colab": {},
    "colab_type": "code",
    "id": "MM5qZ56NeU9Z"
   },
   "outputs": [],
   "source": [
    "train_labels = [pathlib.Path(path).parent.name for path in train_image_paths] #path is str\n",
    "test_labels = [pathlib.Path(path).parent.name for path in test_image_paths]"
   ]
  },
  {
   "cell_type": "code",
   "execution_count": 39,
   "metadata": {
    "colab": {
     "base_uri": "https://localhost:8080/",
     "height": 187
    },
    "colab_type": "code",
    "id": "rtlvZdxzlCnF",
    "outputId": "d41ed85a-acde-4044-c520-da25c5a161f8"
   },
   "outputs": [
    {
     "data": {
      "text/plain": [
       "['Andy_Roddick',\n",
       " 'Andy_Roddick',\n",
       " 'Andy_Roddick',\n",
       " 'Andy_Roddick',\n",
       " 'Andy_Roddick',\n",
       " 'Andy_Roddick',\n",
       " 'Andy_Roddick',\n",
       " 'Andy_Roddick',\n",
       " 'Richard_Gephardt',\n",
       " 'Richard_Gephardt']"
      ]
     },
     "execution_count": 39,
     "metadata": {
      "tags": []
     },
     "output_type": "execute_result"
    }
   ],
   "source": [
    "train_labels[:10]"
   ]
  },
  {
   "cell_type": "code",
   "execution_count": 40,
   "metadata": {
    "colab": {
     "base_uri": "https://localhost:8080/",
     "height": 187
    },
    "colab_type": "code",
    "id": "5uqqXrsdlRi1",
    "outputId": "ee0acb89-a1b6-4b87-e87c-ee79496b447c"
   },
   "outputs": [
    {
     "data": {
      "text/plain": [
       "['Andy_Roddick',\n",
       " 'Andy_Roddick',\n",
       " 'Richard_Gephardt',\n",
       " 'Richard_Gephardt',\n",
       " 'Ann_Veneman',\n",
       " 'Ann_Veneman',\n",
       " 'Tony_Blair',\n",
       " 'Tony_Blair',\n",
       " 'Eduardo_Duhalde',\n",
       " 'Eduardo_Duhalde']"
      ]
     },
     "execution_count": 40,
     "metadata": {
      "tags": []
     },
     "output_type": "execute_result"
    }
   ],
   "source": [
    "test_labels[:10]"
   ]
  },
  {
   "cell_type": "code",
   "execution_count": 0,
   "metadata": {
    "colab": {},
    "colab_type": "code",
    "id": "6nMKSD8uGgPx"
   },
   "outputs": [],
   "source": [
    "def get_embeddings(images_path):\n",
    "  feature_list = []\n",
    "  \n",
    "  for img in images_path:\n",
    "    img_1 = image.load_img(img, target_size=(224, 224)) \n",
    "    x = image.img_to_array(img_1)\n",
    "    #print(x.shape)\n",
    "    x = np.expand_dims(x, axis=0)\n",
    "    x = preprocess_input(x)\n",
    "    features_1 = model.predict(x).ravel()\n",
    "    feature_list.append(features_1)\n",
    "\n",
    "  return np.array(feature_list)"
   ]
  },
  {
   "cell_type": "code",
   "execution_count": 0,
   "metadata": {
    "colab": {},
    "colab_type": "code",
    "id": "avV7LewEf-dh"
   },
   "outputs": [],
   "source": [
    "train_embeddings = get_embeddings(train_image_paths)"
   ]
  },
  {
   "cell_type": "code",
   "execution_count": 31,
   "metadata": {
    "colab": {
     "base_uri": "https://localhost:8080/",
     "height": 34
    },
    "colab_type": "code",
    "id": "s82N_7aSg6K7",
    "outputId": "8c595ecf-7a20-44e7-ecaf-9b32f2417035"
   },
   "outputs": [
    {
     "data": {
      "text/plain": [
       "(1144, 25088)"
      ]
     },
     "execution_count": 31,
     "metadata": {
      "tags": []
     },
     "output_type": "execute_result"
    }
   ],
   "source": [
    "train_embeddings.shape"
   ]
  },
  {
   "cell_type": "code",
   "execution_count": 0,
   "metadata": {
    "colab": {},
    "colab_type": "code",
    "id": "_uNN6LLqhGt1"
   },
   "outputs": [],
   "source": [
    "test_embeddings = get_embeddings(test_image_paths)"
   ]
  },
  {
   "cell_type": "code",
   "execution_count": 33,
   "metadata": {
    "colab": {
     "base_uri": "https://localhost:8080/",
     "height": 34
    },
    "colab_type": "code",
    "id": "Fp8M6yI2hJVR",
    "outputId": "d1f3c81e-535d-4f0a-fe27-b7a1a0e78ca1"
   },
   "outputs": [
    {
     "data": {
      "text/plain": [
       "(286, 25088)"
      ]
     },
     "execution_count": 33,
     "metadata": {
      "tags": []
     },
     "output_type": "execute_result"
    }
   ],
   "source": [
    "test_embeddings.shape"
   ]
  },
  {
   "cell_type": "markdown",
   "metadata": {
    "colab_type": "text",
    "id": "J-BHZlu1hM7M"
   },
   "source": [
    "# Evaluation on the test set"
   ]
  },
  {
   "cell_type": "code",
   "execution_count": 48,
   "metadata": {
    "colab": {
     "base_uri": "https://localhost:8080/",
     "height": 646
    },
    "colab_type": "code",
    "id": "ajTl9fDNhQhV",
    "outputId": "b0f0e64c-22ad-4993-f08d-b23eab4e67ac"
   },
   "outputs": [
    {
     "name": "stdout",
     "output_type": "stream",
     "text": [
      "Jack_Straw Jack_Straw\n",
      "John_Allen_Muhammad John_Allen_Muhammad\n",
      "John_Allen_Muhammad John_Allen_Muhammad\n",
      "Adrien_Brody Adrien_Brody\n",
      "James_Blake James_Blake\n",
      "Guillermo_Coria Guillermo_Coria\n",
      "Jiang_Zemin Jiang_Zemin\n",
      "Jiang_Zemin Jiang_Zemin\n",
      "John_Paul_II John_Paul_II\n",
      "Jennifer_Aniston Jennifer_Aniston\n",
      "Atal_Bihari_Vajpayee Atal_Bihari_Vajpayee\n",
      "Saddam_Hussein Saddam_Hussein\n",
      "Saddam_Hussein Saddam_Hussein\n",
      "Joe_Lieberman Joe_Lieberman\n",
      "Lindsay_Davenport Lindsay_Davenport\n",
      "Angelina_Jolie Angelina_Jolie\n",
      "Venus_Williams Venus_Williams\n",
      "Dominique_de_Villepin Dominique_de_Villepin\n",
      "Joschka_Fischer Joschka_Fischer\n",
      "Julie_Gerberding Julie_Gerberding\n",
      "Dick_Cheney Dick_Cheney\n",
      "Ari_Fleischer Ari_Fleischer\n",
      "Mike_Weir Mike_Weir\n",
      "Mike_Weir Mike_Weir\n",
      "Sergey_Lavrov Sergey_Lavrov\n",
      "Hu_Jintao Hu_Jintao\n",
      "Lleyton_Hewitt Lleyton_Hewitt\n",
      "Carlos_Moya Carlos_Moya\n",
      "Howard_Dean Howard_Dean\n",
      "Mark_Philippoussis Mark_Philippoussis\n",
      "Britney_Spears Britney_Spears\n",
      "Britney_Spears Britney_Spears\n",
      "Pierce_Brosnan Pierce_Brosnan\n",
      "Winona_Ryder Winona_Ryder\n",
      "Gordon_Brown Gordon_Brown\n",
      "Sergio_Vieira_De_Mello Sergio_Vieira_De_Mello\n",
      "Jacques_Chirac Jacques_Chirac\n"
     ]
    }
   ],
   "source": [
    "correct_identified = 0\n",
    "\n",
    "for index, test_img_embedding in enumerate(test_embeddings):\n",
    "  diff = (train_embeddings - test_img_embedding)**2\n",
    "  dist = np.sum(diff, axis=1)\n",
    "  # print(dist)\n",
    "  nearest_neighbors = np.argsort(dist)[:10]\n",
    "  # print(nearest_neighbors)\n",
    "  # print(test_labels[index], train_labels[nearest_neighbors[0]])\n",
    "\n",
    "  if test_labels[index] == train_labels[nearest_neighbors[0]]:\n",
    "    print(test_labels[index], train_labels[nearest_neighbors[0]])\n",
    "    correct_identified += 1\n",
    "\n",
    "  # show test image\n",
    "  # display.display(display.Image(test_image_paths[index]))\n",
    "  \n",
    "  # show the nearest images\n",
    "  # for ind in nearest_neighbors:\n",
    "  #   print(train_labels[ind])\n",
    "  #   display.display(display.Image(train_image_paths[ind]))\n"
   ]
  },
  {
   "cell_type": "code",
   "execution_count": 49,
   "metadata": {
    "colab": {
     "base_uri": "https://localhost:8080/",
     "height": 34
    },
    "colab_type": "code",
    "id": "SNN2xDUJjfnB",
    "outputId": "ffc1c08c-649a-45de-8122-2243bd7e4120"
   },
   "outputs": [
    {
     "data": {
      "text/plain": [
       "37"
      ]
     },
     "execution_count": 49,
     "metadata": {
      "tags": []
     },
     "output_type": "execute_result"
    }
   ],
   "source": [
    "correct_identified"
   ]
  },
  {
   "cell_type": "markdown",
   "metadata": {
    "colab_type": "text",
    "id": "0WZ5UCPEPQ3j"
   },
   "source": [
    "### Similarity Matrix"
   ]
  },
  {
   "cell_type": "code",
   "execution_count": 0,
   "metadata": {
    "colab": {},
    "colab_type": "code",
    "id": "SzWnno24IA2p"
   },
   "outputs": [],
   "source": [
    "# num = len(file_list)\n",
    "# sim_matrix = np.zeros((num,num))\n",
    "\n",
    "# for i in range(num):\n",
    "#   for j in range(num):\n",
    "#     sim_matrix[i][j] = 1 - spatial.distance.cosine(feature_list[i], feature_list[j])\n"
   ]
  },
  {
   "cell_type": "markdown",
   "metadata": {
    "colab_type": "text",
    "id": "8vnkZgrqPWfQ"
   },
   "source": [
    "### Validate on Sample"
   ]
  },
  {
   "cell_type": "code",
   "execution_count": 0,
   "metadata": {
    "colab": {},
    "colab_type": "code",
    "id": "z8XhdGe9LAHQ"
   },
   "outputs": [],
   "source": [
    "# rand_index = randrange(num)\n",
    "# sort_index = np.argsort(sim_matrix[rand_index])"
   ]
  },
  {
   "cell_type": "markdown",
   "metadata": {
    "colab_type": "text",
    "id": "_74b0DT6RVSK"
   },
   "source": [
    "Top 10 similar pokemons"
   ]
  },
  {
   "cell_type": "code",
   "execution_count": 0,
   "metadata": {
    "colab": {},
    "colab_type": "code",
    "id": "6b2FuLLoHSJc"
   },
   "outputs": [],
   "source": [
    "# top_sim = sort_index[::-1][1:10]\n",
    "# display.display(display.Image(path+listdir(path)[rand_index] ))\n",
    "\n",
    "# for ind in top_sim:\n",
    "#   display.display(display.Image(path+listdir(path)[ind] ))"
   ]
  },
  {
   "cell_type": "markdown",
   "metadata": {
    "colab_type": "text",
    "id": "hhdVySNORY5-"
   },
   "source": [
    "Top 10 disimilar pokemons"
   ]
  },
  {
   "cell_type": "code",
   "execution_count": 0,
   "metadata": {
    "colab": {},
    "colab_type": "code",
    "id": "pXRYvezRMkpe"
   },
   "outputs": [],
   "source": [
    "# top_dis_sim = sort_index[1:10]\n",
    "# display.display(display.Image(path+listdir(path)[rand_index] ))\n",
    "\n",
    "# for ind in top_dis_sim:\n",
    "#   display.display(display.Image(path+listdir(path)[ind] ))"
   ]
  }
 ],
 "metadata": {
  "accelerator": "GPU",
  "colab": {
   "collapsed_sections": [],
   "name": "Image_Similarity_Baseline_Celeb",
   "provenance": [],
   "toc_visible": true
  },
  "kernelspec": {
   "display_name": "Python 3",
   "language": "python",
   "name": "python3"
  },
  "language_info": {
   "codemirror_mode": {
    "name": "ipython",
    "version": 3
   },
   "file_extension": ".py",
   "mimetype": "text/x-python",
   "name": "python",
   "nbconvert_exporter": "python",
   "pygments_lexer": "ipython3",
   "version": "3.6.8"
  }
 },
 "nbformat": 4,
 "nbformat_minor": 1
}
